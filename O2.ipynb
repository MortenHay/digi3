{
 "cells": [
  {
   "cell_type": "code",
   "execution_count": 8,
   "metadata": {},
   "outputs": [],
   "source": [
    "from sympy import *\n",
    "init_printing()\n",
    "j = I"
   ]
  },
  {
   "cell_type": "code",
   "execution_count": 9,
   "metadata": {},
   "outputs": [],
   "source": [
    "#fakta\n",
    "U = 231 #V\n",
    "f = 50 #Hz\n",
    "R1 = 9 #ohm\n",
    "L1 = 0.02 #H\n",
    "R2 = 5 #ohm\n",
    "L2 = 0.005 #H\n",
    "C = 921e-6 #F"
   ]
  },
  {
   "cell_type": "code",
   "execution_count": 5,
   "metadata": {},
   "outputs": [
    {
     "data": {
      "text/latex": [
       "$\\displaystyle 314.159265358979$"
      ],
      "text/plain": [
       "314.159265358979"
      ]
     },
     "execution_count": 5,
     "metadata": {},
     "output_type": "execute_result"
    }
   ],
   "source": [
    "#a\n",
    "omega = f*2*pi\n",
    "omega.evalf()\n"
   ]
  },
  {
   "cell_type": "code",
   "execution_count": 11,
   "metadata": {},
   "outputs": [
    {
     "data": {
      "text/latex": [
       "$\\displaystyle \\left( 6.28318530717959 i, \\  1.5707963267949 i, \\  - 3.45613340047547 i\\right)$"
      ],
      "text/plain": [
       "(6.28318530717959⋅ⅈ, 1.5707963267949⋅ⅈ, -3.45613340047547⋅ⅈ)"
      ]
     },
     "execution_count": 11,
     "metadata": {},
     "output_type": "execute_result"
    }
   ],
   "source": [
    "#b\n",
    "ZR1 = R1\n",
    "ZR2 = R2\n",
    "ZL1 = j * omega * L1\n",
    "ZL2 = j * omega * L2\n",
    "ZC = 1/(j * omega * C)\n",
    "ZL1.simplify().evalf(), ZL2.simplify().evalf(), ZC.simplify().evalf()"
   ]
  },
  {
   "cell_type": "code",
   "execution_count": 13,
   "metadata": {},
   "outputs": [
    {
     "data": {
      "text/latex": [
       "$\\displaystyle 11.0915897327512 + 3.61572223992121 i$"
      ],
      "text/plain": [
       "11.0915897327512 + 3.61572223992121⋅ⅈ"
      ]
     },
     "execution_count": 13,
     "metadata": {},
     "output_type": "execute_result"
    }
   ],
   "source": [
    "#c\n",
    "Z =ZR1 + ZL1 + (ZR2+ZL2)*ZC/((ZR2+ZL2)+ZC)\n",
    "Z.simplify().evalf()"
   ]
  },
  {
   "cell_type": "code",
   "execution_count": 15,
   "metadata": {},
   "outputs": [
    {
     "data": {
      "text/latex": [
       "$\\displaystyle 18.8259903085383 - 6.13704198291141 i$"
      ],
      "text/plain": [
       "18.8259903085383 - 6.13704198291141⋅ⅈ"
      ]
     },
     "execution_count": 15,
     "metadata": {},
     "output_type": "execute_result"
    }
   ],
   "source": [
    "#e\n",
    "I = U/Z\n",
    "I.simplify().evalf()"
   ]
  },
  {
   "cell_type": "code",
   "execution_count": 21,
   "metadata": {},
   "outputs": [
    {
     "data": {
      "text/latex": [
       "$\\displaystyle 2.09158973275119 - 2.66746306725838 i$"
      ],
      "text/plain": [
       "2.09158973275119 - 2.66746306725838⋅ⅈ"
      ]
     },
     "execution_count": 21,
     "metadata": {},
     "output_type": "execute_result"
    }
   ],
   "source": [
    "#f\n",
    "#Erstatningsimpedans\n",
    "ZP = (ZR2+ZL2)*ZC/((ZR2+ZL2)+ZC)\n",
    "ZP.simplify().evalf()"
   ]
  },
  {
   "cell_type": "code",
   "execution_count": 22,
   "metadata": {},
   "outputs": [
    {
     "data": {
      "text/latex": [
       "$\\displaystyle 23.0059152065818 - 63.0538078535106 i$"
      ],
      "text/plain": [
       "23.0059152065818 - 63.0538078535106⋅ⅈ"
      ]
     },
     "execution_count": 22,
     "metadata": {},
     "output_type": "execute_result"
    }
   ],
   "source": [
    "#Spændingen\n",
    "UP = U * ZP/Z\n",
    "UP.simplify().evalf()"
   ]
  },
  {
   "cell_type": "code",
   "execution_count": 23,
   "metadata": {},
   "outputs": [
    {
     "data": {
      "text/latex": [
       "$\\displaystyle 18.2440318550309 + 6.65654722801407 i$"
      ],
      "text/plain": [
       "18.2440318550309 + 6.65654722801407⋅ⅈ"
      ]
     },
     "execution_count": 23,
     "metadata": {},
     "output_type": "execute_result"
    }
   ],
   "source": [
    "#g\n",
    "IC = UP/ZC\n",
    "IC.simplify().evalf()"
   ]
  },
  {
   "cell_type": "code",
   "execution_count": 27,
   "metadata": {},
   "outputs": [
    {
     "data": {
      "text/latex": [
       "$\\displaystyle 20.0961229390446 + 0.914138201116743 i$"
      ],
      "text/plain": [
       "20.0961229390446 + 0.914138201116743⋅ⅈ"
      ]
     },
     "execution_count": 27,
     "metadata": {},
     "output_type": "execute_result"
    }
   ],
   "source": [
    "#h\n",
    "UL2 = UP * ZL2/(ZR2+ZL2)\n",
    "UL2.simplify().evalf()"
   ]
  }
 ],
 "metadata": {
  "kernelspec": {
   "display_name": "digi3",
   "language": "python",
   "name": "python3"
  },
  "language_info": {
   "codemirror_mode": {
    "name": "ipython",
    "version": 3
   },
   "file_extension": ".py",
   "mimetype": "text/x-python",
   "name": "python",
   "nbconvert_exporter": "python",
   "pygments_lexer": "ipython3",
   "version": "3.10.12"
  },
  "orig_nbformat": 4
 },
 "nbformat": 4,
 "nbformat_minor": 2
}
