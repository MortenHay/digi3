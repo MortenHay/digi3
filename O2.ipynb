{
 "cells": [
  {
   "cell_type": "code",
   "execution_count": 21,
   "metadata": {},
   "outputs": [],
   "source": [
    "import sympy as sp\n",
    "from mpmath import radians, degrees"
   ]
  },
  {
   "cell_type": "code",
   "execution_count": 22,
   "metadata": {},
   "outputs": [
    {
     "data": {
      "text/plain": [
       "(77.406241514663 - 62.7817245706429*I, -39.0444022391455, 99.6657973704640)"
      ]
     },
     "execution_count": 22,
     "metadata": {},
     "output_type": "execute_result"
    }
   ],
   "source": [
    "j = sp.I\n",
    "e = lambda x: sp.exp(x)\n",
    "U1, U2, U3 = 60.6*e(0*j), 102.9*e(radians(80.6*j)), 164.3*e(radians(-90*j))\n",
    "Ut = U1+U2+U3\n",
    "Ut.simplify(), degrees(sp.arg(Ut)), sp.Abs(Ut.simplify())\n",
    "\n"
   ]
  },
  {
   "cell_type": "code",
   "execution_count": 12,
   "metadata": {},
   "outputs": [
    {
     "data": {
      "text/latex": [
       "$\\displaystyle 20.351724137931 - 3.97931034482759 i$"
      ],
      "text/plain": [
       "20.351724137931 - 3.97931034482759*I"
      ]
     },
     "execution_count": 12,
     "metadata": {},
     "output_type": "execute_result"
    }
   ],
   "source": [
    "Z = 5 + 3*j + 1/(1/(10 + 4*j) + 1/(-5*j+7)) -6*j + 10\n",
    "Z.evalf()"
   ]
  },
  {
   "cell_type": "code",
   "execution_count": 42,
   "metadata": {},
   "outputs": [
    {
     "data": {
      "text/latex": [
       "$\\displaystyle 2.46153846153846 + 0.307692307692308 i$"
      ],
      "text/plain": [
       "2.46153846153846 + 0.307692307692308*I"
      ]
     },
     "execution_count": 42,
     "metadata": {},
     "output_type": "execute_result"
    }
   ],
   "source": [
    "U = 50*e(0*j)\n",
    "Z1 = 5\n",
    "Z2 = 1/(1/(5) + 1/(10*j) + 1/(-20*j))\n",
    "In = U/Z1\n",
    "U0 = U*Z2/(Z1+Z2)\n",
    "Zn=(U0/In).evalf()\n",
    "Zn"
   ]
  },
  {
   "cell_type": "code",
   "execution_count": 49,
   "metadata": {},
   "outputs": [
    {
     "data": {
      "text/latex": [
       "$\\displaystyle 1.25 i$"
      ],
      "text/plain": [
       "1.25*I"
      ]
     },
     "execution_count": 49,
     "metadata": {},
     "output_type": "execute_result"
    }
   ],
   "source": [
    "Z3 = -20*j\n",
    "i3 = In * Zn/(Zn+Z3)\n",
    "i3.evalf()"
   ]
  },
  {
   "cell_type": "code",
   "execution_count": 74,
   "metadata": {},
   "outputs": [
    {
     "data": {
      "text/plain": [
       "(4.44587685276788 - 11.1680426541529*I, 112.076445328561 - 399.848551353977*I)"
      ]
     },
     "execution_count": 74,
     "metadata": {},
     "output_type": "execute_result"
    }
   ],
   "source": [
    "t = sp.Symbol('t')\n",
    "Up = 325\n",
    "omega = 314\n",
    "u = Up*sp.sin(omega*t)\n",
    "L1 = 0.08\n",
    "L2 = 0.1\n",
    "R1 = 10\n",
    "R2 = 10\n",
    "R3 = 20\n",
    "C1 = 80e-6\n",
    "\n",
    "ZL1 = j*omega*L1\n",
    "ZL2 = j*omega*L2\n",
    "ZC1 = 1/(j*omega*C1)\n",
    "ZR1 = R1\n",
    "ZR2 = R2\n",
    "ZR3 = R3\n",
    "\n",
    "Z1 = ZL1 + ZR1\n",
    "Z2 = ZL2 + ZR2 + ZC1 + ZR3\n",
    "Zt = Z1*Z2/(Z1+Z2)\n",
    "\n",
    "i = u/Zt\n",
    "i1 = i*Z2/(Z1+Z2)\n",
    "i2 = i*Z1/(Z1+Z2)\n",
    "\n",
    "uc = i2*ZC1\n",
    "\n",
    "(i1/sp.sin(omega*t)).evalf(), (uc/sp.sin(omega*t)).evalf()"
   ]
  },
  {
   "cell_type": "code",
   "execution_count": 76,
   "metadata": {},
   "outputs": [
    {
     "data": {
      "text/latex": [
       "$\\displaystyle 16.8350978728479 + 9.70445283708304 i$"
      ],
      "text/plain": [
       "16.8350978728479 + 9.70445283708304*I"
      ]
     },
     "execution_count": 76,
     "metadata": {},
     "output_type": "execute_result"
    }
   ],
   "source": [
    "Zt.evalf()"
   ]
  }
 ],
 "metadata": {
  "kernelspec": {
   "display_name": "digi3",
   "language": "python",
   "name": "python3"
  },
  "language_info": {
   "codemirror_mode": {
    "name": "ipython",
    "version": 3
   },
   "file_extension": ".py",
   "mimetype": "text/x-python",
   "name": "python",
   "nbconvert_exporter": "python",
   "pygments_lexer": "ipython3",
   "version": "3.10.12"
  },
  "orig_nbformat": 4
 },
 "nbformat": 4,
 "nbformat_minor": 2
}
