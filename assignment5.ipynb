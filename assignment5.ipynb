{
 "cells": [
  {
   "cell_type": "markdown",
   "metadata": {},
   "source": [
    "Course 46030 Electrical energy systems Fall 23  \n",
    "Assignment 5 - 30th October 2023   \n",
    "Group 9:  \n",
    "Anders Henriksen s206120  \n",
    "Casper Helvig Larsen s223873  \n",
    "Katrine Lodahl Rønn s223888  \n",
    "Morten Hay Sørensen s223872"
   ]
  },
  {
   "cell_type": "code",
   "execution_count": 2,
   "metadata": {},
   "outputs": [],
   "source": [
    "#imports\n",
    "from sympy import *\n",
    "from sympy.physics.units import *\n",
    "import matplotlib.pyplot as plt\n",
    "init_printing()"
   ]
  },
  {
   "cell_type": "markdown",
   "metadata": {},
   "source": [
    "Problem 1.1)  \n",
    "The given values are inserted into the equation for $U_T$"
   ]
  },
  {
   "cell_type": "code",
   "execution_count": 18,
   "metadata": {},
   "outputs": [
    {
     "name": "stdout",
     "output_type": "stream",
     "text": [
      "UT = 0.0258V\n"
     ]
    }
   ],
   "source": [
    "IS = 1e-10 #A\n",
    "k = 1.38e-23 #J/K\n",
    "T = 300 #K\n",
    "q = 1.602e-19 #C\n",
    "IF, UF = symbols('I_F U_F')\n",
    "UT = k*T/q\n",
    "print(f\"UT = {round(UT,4)}V\")"
   ]
  },
  {
   "cell_type": "markdown",
   "metadata": {},
   "source": [
    "The equation for $I_F$ as a function of $U_F$ is given as eqn1 while $U_F$ as function of $I_F$ is given as eqn2. eqn2 is plottet over the interval $I_F\\in \\left[0,10 \\right]$"
   ]
  },
  {
   "cell_type": "code",
   "execution_count": 8,
   "metadata": {},
   "outputs": [
    {
     "data": {
      "image/png": "[encoded data removed]",
      "text/plain": [
       "<Figure size 640x480 with 1 Axes>"
      ]
     },
     "metadata": {},
     "output_type": "display_data"
    },
    {
     "data": {
      "text/plain": [
       "<sympy.plotting.plot.Plot at 0x7f0e7d2e7a00>"
      ]
     },
     "execution_count": 8,
     "metadata": {},
     "output_type": "execute_result"
    }
   ],
   "source": [
    "eqn1 = Eq(IF, IS*(exp(UF/UT)-1))\n",
    "eqn2 = Eq(UF, UT*log(IF/IS+1))\n",
    "\n",
    "plot(eqn2.rhs, (IF, 0, 10), xlabel='IF (A)', ylabel='UF (V)', title='Diode Characteristic Curve')"
   ]
  },
  {
   "cell_type": "markdown",
   "metadata": {},
   "source": [
    "Here it can be seen, that the diode allows current to pass from around $0.5V$ to $0.6V$"
   ]
  },
  {
   "cell_type": "markdown",
   "metadata": {},
   "source": [
    "Problem 1.2)  \n",
    "The new temperature is used to calculate a new $U_{T2}$. This is used to calculate the forward voltage when the forward current is $5A$ in the cases with $300K$ and $200K$ respectively"
   ]
  },
  {
   "cell_type": "code",
   "execution_count": 17,
   "metadata": {},
   "outputs": [
    {
     "data": {
      "image/png": "[encoded data removed]",
      "text/latex": [
       "$\\displaystyle \\left( U_{F300K} = 0.637, \\  U_{F200K} = 0.424\\right)$"
      ],
      "text/plain": [
       "(U_F300K = 0.637, U_{F200K} = 0.424)"
      ]
     },
     "execution_count": 17,
     "metadata": {},
     "output_type": "execute_result"
    }
   ],
   "source": [
    "T2 = 200 #K\n",
    "UT2 = k*T2/q\n",
    "IF2 = 5 #A\n",
    "UF2 = Eq(Symbol('U_{F200K}'), UT2*log(IF2/IS+1))\n",
    "eqn2.subs({UF:Symbol('U_F300K'),IF:5}).evalf(3), UF2.evalf(3)"
   ]
  },
  {
   "cell_type": "markdown",
   "metadata": {},
   "source": [
    "Both results are in Volts. From this it can be seen that the drop in temperature gives a reduction in forward voltage of about $0.2V$"
   ]
  },
  {
   "cell_type": "markdown",
   "metadata": {},
   "source": [
    "Problem 1.3)  \n",
    "An explenation of the semiconductor concept is that a material that normally cannot conduct current can become a conductor if the valens electrons in the atoms in the crystal become excited and leave the atoms. This creates charge imbalances within the crystal that leads to a current. By doping a crystal of tetravalent silicon atoms with trivalent boron and pentavalent phosphorus, these charge balances can be induced to create a pn-junction to block current until sufficient voltage is applied over the diode."
   ]
  },
  {
   "cell_type": "markdown",
   "metadata": {},
   "source": [
    "Problem 2.a)\n",
    "Yes. The voltage drop must be the same across both diodes. Since the forward voltage depends on the forward current, these forward currents must differ if the diodes have different characteristics."
   ]
  },
  {
   "cell_type": "markdown",
   "metadata": {},
   "source": [
    "Problem 2.b)  \n",
    "By using the equation for $U_F$ as a fundtion of the diode (forward) current $I_D$ as well as KCL, a system of three equations can be made. It is assumed that $U_F$ and $U_T$  is the same for both diodes while $I_S$ is different between the diodes. "
   ]
  },
  {
   "cell_type": "code",
   "execution_count": 66,
   "metadata": {},
   "outputs": [
    {
     "data": {
      "image/png": "[encoded data removed]",
      "text/latex": [
       "$\\displaystyle \\left( U_{F} = U_{T} \\log{\\left(\\frac{I_{D1}}{I_{S1}} + 1 \\right)}, \\  U_{F} = U_{T} \\log{\\left(\\frac{I_{D2}}{I_{S2}} + 1 \\right)}, \\  I_{in} = I_{D1} + I_{D2}\\right)$"
      ],
      "text/plain": [
       "⎛             ⎛I_{D1}    ⎞               ⎛I_{D2}    ⎞                         \n",
       "⎜U_F = U_T⋅log⎜────── + 1⎟, U_F = U_T⋅log⎜────── + 1⎟, I_{in} = I_{D1} + I_{D2\n",
       "⎝             ⎝I_{S1}    ⎠               ⎝I_{S2}    ⎠                         \n",
       "\n",
       " ⎞\n",
       "}⎟\n",
       " ⎠"
      ]
     },
     "execution_count": 66,
     "metadata": {},
     "output_type": "execute_result"
    }
   ],
   "source": [
    "#Symbols are defined\n",
    "UD1,UD2,UT,ID1,ID2,IS1,IS2,Iin = symbols('U_{D1} U_{D2} U_T I_{D1} I_{D2},I_{S1} I_{S2} I_{in}')\n",
    "\n",
    "#The two eqtions for the forward voltage are defined\n",
    "eqn1 = Eq(UF, UT*log(ID1/IS1+1))\n",
    "eqn2 = Eq(UF, UT*log(ID2/IS2+1))\n",
    "\n",
    "#The KCL equation for the current is defined\n",
    "eqn3 = Eq(Iin, ID1+ID2)\n",
    "\n",
    "#These equtions are printed here\n",
    "eqn1,eqn2,eqn3"
   ]
  },
  {
   "cell_type": "markdown",
   "metadata": {},
   "source": [
    "This system of equations can be solved to get the forward currents as a function of the saturation currents and the total current; $I_{S1}, I_{S2}, I_{in}$"
   ]
  },
  {
   "cell_type": "code",
   "execution_count": 88,
   "metadata": {},
   "outputs": [
    {
     "data": {
      "image/png": "[encoded data removed]",
      "text/latex": [
       "$\\displaystyle \\left( I_{D1} = \\frac{I_{S1} I_{in}}{I_{S1} + I_{S2}}, \\  I_{D2} = \\frac{I_{S2} I_{in}}{I_{S1} + I_{S2}}\\right)$"
      ],
      "text/plain": [
       "⎛          I_{S1}⋅I_{in}             I_{S2}⋅I_{in} ⎞\n",
       "⎜I_{D1} = ───────────────, I_{D2} = ───────────────⎟\n",
       "⎝         I_{S1} + I_{S2}           I_{S1} + I_{S2}⎠"
      ]
     },
     "execution_count": 88,
     "metadata": {},
     "output_type": "execute_result"
    }
   ],
   "source": [
    "sol = solve([eqn1,eqn2,eqn3],(ID1,ID2,UF))[0]\n",
    "Eq(ID1,sol[0]),Eq(ID2,sol[1])"
   ]
  },
  {
   "cell_type": "markdown",
   "metadata": {},
   "source": [
    "Here it can be seen, that the diode currents depends on the proportion of a diode's saturation to the sum of parallel saturation currents multiplied by the total current"
   ]
  },
  {
   "cell_type": "markdown",
   "metadata": {},
   "source": [
    "Problem 3.a)  \n",
    "To estimate the dynamical potential and voltages, it is necessary to fit a tangent line to the function. By assuming the majority of the graph is linear, two suitable points have been read from the graph $(1.2V,25A), (1.4,42.5A)$. The dynamic resistance between these points is given as the coefficient of the difference in voltage and the difference in current"
   ]
  },
  {
   "cell_type": "code",
   "execution_count": 21,
   "metadata": {},
   "outputs": [
    {
     "data": {
      "image/png": "[encoded data removed]",
      "text/latex": [
       "$\\displaystyle R_{D} = 0.0114 \\Omega$"
      ],
      "text/plain": [
       "R_D = 0.0114⋅ohm"
      ]
     },
     "execution_count": 21,
     "metadata": {},
     "output_type": "execute_result"
    }
   ],
   "source": [
    "#Points are defined\n",
    "U1,I1 = 1.2*volt,25*ampere\n",
    "U2,I2 = 1.4*volt,42.5*ampere\n",
    "\n",
    "#The dynamic resistance is calculated as the slope of the line between the two points\n",
    "RD = convert_to(((U2-U1)/(I2-I1)).simplify(),ohm)\n",
    "Eq(Symbol('R_D'),RD).evalf(3)"
   ]
  },
  {
   "cell_type": "markdown",
   "metadata": {},
   "source": [
    "The dynamic voltage is the intercept of the line through the points and the current-axis"
   ]
  },
  {
   "cell_type": "code",
   "execution_count": 22,
   "metadata": {},
   "outputs": [
    {
     "data": {
      "text/latex": [
       "$\\displaystyle U_{D} = 0.914 \\text{V}$"
      ],
      "text/plain": [
       "U_D = 0.914⋅volt"
      ]
     },
     "execution_count": 22,
     "metadata": {},
     "output_type": "execute_result"
    }
   ],
   "source": [
    "UD = convert_to(U1-RD*I1,volt)\n",
    "Eq(Symbol('U_D'),UD).evalf(3)"
   ]
  },
  {
   "cell_type": "markdown",
   "metadata": {},
   "source": [
    "Problem 3.2)  \n",
    "The junction loss can be estimated from the values calulated above and the given average and RMS currents as $P_D = U_D \\cdot I_{AV} + R_D \\cdot I_{RMS}^2$"
   ]
  },
  {
   "cell_type": "code",
   "execution_count": 24,
   "metadata": {},
   "outputs": [
    {
     "data": {
      "text/latex": [
       "$\\displaystyle P_{D} = 18.1 \\text{W}$"
      ],
      "text/plain": [
       "P_D = 18.1⋅watt"
      ]
     },
     "execution_count": 24,
     "metadata": {},
     "output_type": "execute_result"
    }
   ],
   "source": [
    "#The given currents are defined\n",
    "IRMS = 25*ampere\n",
    "IAV = 12*ampere\n",
    "\n",
    "#The junction loss is calculated with the given formula\n",
    "P=UD*IAV + convert_to(RD*IRMS**2,watt)\n",
    "Eq(Symbol('P_D'),convert_to(P.simplify(),watt)).evalf(3)"
   ]
  },
  {
   "cell_type": "markdown",
   "metadata": {},
   "source": [
    "Problem 4.a)  \n",
    "In the case with antiparallel diodes, the current will only be able to run in one direction at a time. During the positive half og the cycle, the current will run clockwise through D1 (red arrows). In the negative half, the current will run counter-clockwise through D2 (green arrows). This is illustrated below"
   ]
  },
  {
   "cell_type": "markdown",
   "metadata": {},
   "source": [
    "![image.png](a5/p4.png)"
   ]
  },
  {
   "cell_type": "markdown",
   "metadata": {},
   "source": [
    "The current will only start running when the voltage surpasses $\\pm V_{D,on}$. From that point, the forward voltage and currents follow a linear relationship proportional to R1"
   ]
  },
  {
   "cell_type": "markdown",
   "metadata": {},
   "source": [
    "Problem 5)\n",
    "The 4 different circuits are analyzed individually:"
   ]
  },
  {
   "cell_type": "markdown",
   "metadata": {},
   "source": [
    "Problem 5.1)  \n",
    "![image.png](a5/p51.png)  \n",
    "In this circuit, current can only flow when the top rail is positive compared to the bottom rail. This will charge the capacitor every cycle. The capacitor is not able to discharge at any point, so $V_{out}$ will increase every cycle to approach $V_m$"
   ]
  },
  {
   "cell_type": "markdown",
   "metadata": {},
   "source": [
    "Problem 5.2)  \n",
    "![image.png](a5/p52.png)  \n",
    "Compared to the last circuit, the capacitor is now able to discharge over the resistor. During the positive cycle, the voltage will rise when the bottom rail is positive and fall when $V_a$ is lower than the capacitor voltage."
   ]
  },
  {
   "cell_type": "markdown",
   "metadata": {},
   "source": [
    "Problem 5.3)  \n",
    "![image.png](a5/p53.png)  \n",
    "This center tapped full wave rectifier will turn make the voltage of positive during both halves of the cycle. In the first half, current can run through $D_1$ and $R_1$ into ground. In the other half, the current can run through $R_2$ instead. Since the power supply is center tapped, $V_{out}$ will only be half of $V_a - V_{d,on}$."
   ]
  },
  {
   "cell_type": "markdown",
   "metadata": {},
   "source": [
    "Problem 5.4)  \n",
    "![image](a5/p54.png)  \n",
    "This full bridge rectifier will give the full voltage of $V_a$ turned positive. The capacitor will charge during both halves of the cycle as long as its voltage is higher than $|V_a|$ and discharge when it is lower. This smooths the rectified wave into a more constant voltage resembling DC."
   ]
  },
  {
   "cell_type": "markdown",
   "metadata": {},
   "source": [
    "Graphs)  \n",
    "The graphs showing $V_a$ (in black) and $V_{out}$ (in blue) over time for all 4 circuits can be seen here  \n",
    "![image.png](a5/elting-1.png)"
   ]
  }
 ],
 "metadata": {
  "kernelspec": {
   "display_name": "digi3",
   "language": "python",
   "name": "python3"
  },
  "language_info": {
   "codemirror_mode": {
    "name": "ipython",
    "version": 3
   },
   "file_extension": ".py",
   "mimetype": "text/x-python",
   "name": "python",
   "nbconvert_exporter": "python",
   "pygments_lexer": "ipython3",
   "version": "3.10.13"
  }
 },
 "nbformat": 4,
 "nbformat_minor": 2
}
