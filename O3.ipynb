{
 "cells": [
  {
   "cell_type": "code",
   "execution_count": 4,
   "metadata": {},
   "outputs": [],
   "source": [
    "from sympy import *\n",
    "from sympy.physics.units import *\n",
    "init_printing()"
   ]
  },
  {
   "cell_type": "code",
   "execution_count": 26,
   "metadata": {},
   "outputs": [],
   "source": [
    "f = 50 * hertz\n",
    "omega = convert_to(2*pi*f, [1/s]).simplify()\n",
    "Ugcp = 200 * kilo * volt\n",
    "Pfactor = 0.8\n",
    "phi = acos(Pfactor)\n",
    "Sout = 400*exp(phi*I) * mega * volt * ampere\n",
    "Rc = 0.0113 * ohm/kilometer\n",
    "Lc = 0.6 * milli*henry/kilometer\n",
    "Cc = 0.2 * micro*farad/kilometer\n",
    "\n",
    "Rl = 0.043 * ohm/kilometer\n",
    "Ll = 1.3 * milli*henry/kilometer\n",
    "Cl = 0.01 * micro*farad/kilometer\n",
    "\n",
    "\n",
    "\n"
   ]
  },
  {
   "cell_type": "code",
   "execution_count": 19,
   "metadata": {},
   "outputs": [],
   "source": []
  },
  {
   "cell_type": "code",
   "execution_count": 35,
   "metadata": {},
   "outputs": [
    {
     "data": {
      "text/latex": [
       "$\\displaystyle \\left( 320000000.0 \\text{W}, \\  240000000.0 \\text{A} \\text{V}\\right)$"
      ],
      "text/plain": [
       "(320000000.0⋅watt, 240000000.0⋅ampere⋅volt)"
      ]
     },
     "execution_count": 35,
     "metadata": {},
     "output_type": "execute_result"
    }
   ],
   "source": [
    "P,Q = convert_to(re(Sout).simplify(),watt), im(Sout).simplify()\n",
    "P,Q"
   ]
  },
  {
   "cell_type": "code",
   "execution_count": 40,
   "metadata": {},
   "outputs": [
    {
     "data": {
      "text/latex": [
       "$\\displaystyle \\left(1600.0 - 1200.0 i\\right) \\text{A}$"
      ],
      "text/plain": [
       "(1600.0 - 1200.0⋅ⅈ)⋅ampere"
      ]
     },
     "execution_count": 40,
     "metadata": {},
     "output_type": "execute_result"
    }
   ],
   "source": [
    "igcp = conjugate(Sout/Ugcp).simplify()\n",
    "igcp.evalf()"
   ]
  },
  {
   "cell_type": "code",
   "execution_count": 49,
   "metadata": {},
   "outputs": [
    {
     "data": {
      "text/latex": [
       "$\\displaystyle \\left( - \\frac{10000 i \\Omega}{3 \\pi}, \\  0.339 \\Omega + 1.8 i \\pi \\Omega, \\  - \\frac{10000 i \\Omega}{3 \\pi}, \\  - \\frac{28571.4285714286 i \\Omega}{\\pi}, \\  3.01 \\Omega + 9.1 i \\pi \\Omega, \\  - \\frac{28571.4285714286 i \\Omega}{\\pi}\\right)$"
      ],
      "text/plain": [
       "⎛-10000⋅ⅈ⋅ohm                            -10000⋅ⅈ⋅ohm   -28571.4285714286⋅ⅈ⋅oh\n",
       "⎜─────────────, 0.339⋅ohm + 1.8⋅ⅈ⋅π⋅ohm, ─────────────, ──────────────────────\n",
       "⎝     3⋅π                                     3⋅π                  π          \n",
       "\n",
       "m                           -28571.4285714286⋅ⅈ⋅ohm ⎞\n",
       "──, 3.01⋅ohm + 9.1⋅ⅈ⋅π⋅ohm, ────────────────────────⎟\n",
       "                                       π            ⎠"
      ]
     },
     "execution_count": 49,
     "metadata": {},
     "output_type": "execute_result"
    }
   ],
   "source": [
    "Z1 = convert_to(1/(I*omega*3*micro*farad).simplify(),ohm)\n",
    "Z2 = convert_to((0.339 * ohm + 0.018 *henry*I*omega).simplify(),ohm)\n",
    "Z3 = Z1\n",
    "Z4 = convert_to((1/(I*omega*0.35*micro*farad)).simplify(),ohm)\n",
    "Z5 = convert_to((3.01 * ohm + 0.091 *henry*I*omega).simplify(),ohm)\n",
    "Z6 = Z4\n",
    "Z1,Z2,Z3,Z4,Z5,Z6"
   ]
  },
  {
   "cell_type": "code",
   "execution_count": 57,
   "metadata": {},
   "outputs": [
    {
     "data": {
      "text/latex": [
       "$\\displaystyle 21.9911485751286 i \\text{A}$"
      ],
      "text/plain": [
       "21.9911485751286⋅ⅈ⋅ampere"
      ]
     },
     "execution_count": 57,
     "metadata": {},
     "output_type": "execute_result"
    }
   ],
   "source": [
    "U6 = Ugcp\n",
    "i6 = convert_to((U6/Z6).simplify(),ampere)\n",
    "i6.evalf()"
   ]
  },
  {
   "cell_type": "code",
   "execution_count": 58,
   "metadata": {},
   "outputs": [
    {
     "data": {
      "text/latex": [
       "$\\displaystyle \\left( \\left(1600.0 - 1178.00885142487 i\\right) \\text{A}, \\  \\left(38493.4979768511 + 42195.7823934785 i\\right) \\text{V}\\right)$"
      ],
      "text/plain": [
       "((1600.0 - 1178.00885142487⋅ⅈ)⋅ampere, (38493.4979768511 + 42195.7823934785⋅ⅈ)\n",
       "⋅volt)"
      ]
     },
     "execution_count": 58,
     "metadata": {},
     "output_type": "execute_result"
    }
   ],
   "source": [
    "i5 = (igcp + i6).simplify()\n",
    "U5 = convert_to((i5*Z5).simplify(),volt)\n",
    "i5.evalf(), U5.evalf()"
   ]
  },
  {
   "cell_type": "code",
   "execution_count": 63,
   "metadata": {},
   "outputs": [
    {
     "data": {
      "text/latex": [
       "$\\displaystyle \\left( \\left(238493.497976851 + 42195.7823934785 i\\right) \\text{V}, \\  \\left(-4.6396685992939 + 26.2237297410553 i\\right) \\text{A}\\right)$"
      ],
      "text/plain": [
       "((238493.497976851 + 42195.7823934785⋅ⅈ)⋅volt, (-4.6396685992939 + 26.22372974\n",
       "10553⋅ⅈ)⋅ampere)"
      ]
     },
     "execution_count": 63,
     "metadata": {},
     "output_type": "execute_result"
    }
   ],
   "source": [
    "U4 = (U5 + U6).simplify()\n",
    "i4 = convert_to((U4/Z4).simplify(),ampere)\n",
    "U4.evalf(), i4.evalf()"
   ]
  },
  {
   "cell_type": "code",
   "execution_count": 64,
   "metadata": {},
   "outputs": [
    {
     "data": {
      "text/latex": [
       "$\\displaystyle \\left( \\left(238493.497976851 + 42195.7823934785 i\\right) \\text{V}, \\  \\left(-39.7685879939477 + 224.774826351902 i\\right) \\text{A}\\right)$"
      ],
      "text/plain": [
       "((238493.497976851 + 42195.7823934785⋅ⅈ)⋅volt, (-39.7685879939477 + 224.774826\n",
       "351902⋅ⅈ)⋅ampere)"
      ]
     },
     "execution_count": 64,
     "metadata": {},
     "output_type": "execute_result"
    }
   ],
   "source": [
    "U3 = U4\n",
    "i3 = convert_to((U3/Z3).simplify(),ampere)\n",
    "U3.evalf(), i3.evalf()"
   ]
  },
  {
   "cell_type": "code",
   "execution_count": 68,
   "metadata": {},
   "outputs": [
    {
     "data": {
      "text/latex": [
       "$\\displaystyle \\left( \\left(1555.59174340676 - 927.010295331914 i\\right) \\text{A}, \\  \\left(5769.46532152521 + 8482.40757741138 i\\right) \\text{V}\\right)$"
      ],
      "text/plain": [
       "((1555.59174340676 - 927.010295331914⋅ⅈ)⋅ampere, (5769.46532152521 + 8482.4075\n",
       "7741138⋅ⅈ)⋅volt)"
      ]
     },
     "execution_count": 68,
     "metadata": {},
     "output_type": "execute_result"
    }
   ],
   "source": [
    "i2 = (i3 + i4 + i5).simplify()\n",
    "U2 = convert_to((i2*Z2).simplify(),volt)\n",
    "i2.evalf(),U2.evalf()\n"
   ]
  },
  {
   "cell_type": "code",
   "execution_count": 69,
   "metadata": {},
   "outputs": [
    {
     "data": {
      "text/latex": [
       "$\\displaystyle \\left(244262.963298376 + 50678.1899708899 i\\right) \\text{V}$"
      ],
      "text/plain": [
       "(244262.963298376 + 50678.1899708899⋅ⅈ)⋅volt"
      ]
     },
     "execution_count": 69,
     "metadata": {},
     "output_type": "execute_result"
    }
   ],
   "source": [
    "U1 = (U2 + U3).simplify()\n",
    "U1.evalf()"
   ]
  },
  {
   "cell_type": "code",
   "execution_count": null,
   "metadata": {},
   "outputs": [],
   "source": []
  }
 ],
 "metadata": {
  "kernelspec": {
   "display_name": "digi3",
   "language": "python",
   "name": "python3"
  },
  "language_info": {
   "codemirror_mode": {
    "name": "ipython",
    "version": 3
   },
   "file_extension": ".py",
   "mimetype": "text/x-python",
   "name": "python",
   "nbconvert_exporter": "python",
   "pygments_lexer": "ipython3",
   "version": "3.10.12"
  },
  "orig_nbformat": 4
 },
 "nbformat": 4,
 "nbformat_minor": 2
}
