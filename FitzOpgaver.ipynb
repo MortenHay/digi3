{
 "cells": [
  {
   "cell_type": "code",
   "execution_count": 1,
   "metadata": {},
   "outputs": [],
   "source": [
    "from sympy import *\n",
    "from sympy.physics.units import *\n",
    "init_printing()\n",
    "j = I"
   ]
  },
  {
   "cell_type": "code",
   "execution_count": 6,
   "metadata": {},
   "outputs": [
    {
     "data": {
      "text/latex": [
       "$\\displaystyle 3.06186217847897$"
      ],
      "text/plain": [
       "3.06186217847897"
      ]
     },
     "execution_count": 6,
     "metadata": {},
     "output_type": "execute_result"
    }
   ],
   "source": [
    "#2.3\n",
    "Z2 = 8 * ohm\n",
    "Z1 = 75 * ohm\n",
    "ratio = sqrt(Z1/Z2)\n",
    "ratio.evalf()"
   ]
  },
  {
   "cell_type": "code",
   "execution_count": 19,
   "metadata": {},
   "outputs": [
    {
     "data": {
      "text/latex": [
       "$\\displaystyle 10.6481481481481 \\text{A}$"
      ],
      "text/plain": [
       "10.6481481481481⋅ampere"
      ]
     },
     "execution_count": 19,
     "metadata": {},
     "output_type": "execute_result"
    }
   ],
   "source": [
    "#2.10\n",
    "ratio = 460/2400\n",
    "Rlh = 37.2 * j * ohm\n",
    "Pll = 25e3 * watt\n",
    "Ul = 450 * volt\n",
    "Il = Pll / Ul\n",
    "Ih = Il * ratio\n",
    "convert_to(Ih.evalf(),ampere)\n",
    "\n"
   ]
  },
  {
   "cell_type": "code",
   "execution_count": 28,
   "metadata": {},
   "outputs": [
    {
     "data": {
      "text/latex": [
       "$\\displaystyle \\left( 0.167140005655293, \\  0.986064595985597\\right)$"
      ],
      "text/plain": [
       "(0.167140005655293, 0.986064595985597)"
      ]
     },
     "execution_count": 28,
     "metadata": {},
     "output_type": "execute_result"
    }
   ],
   "source": [
    "Uh = convert_to(Ih * Rlh,volt)\n",
    "convert_to(Uh.evalf(),volt)\n",
    "Uhtot = Ul/ratio + Uh\n",
    "convert_to(Uhtot, volt)\n",
    "arg(Uhtot),cos(arg(Uhtot))"
   ]
  },
  {
   "cell_type": "code",
   "execution_count": 40,
   "metadata": {},
   "outputs": [
    {
     "data": {
      "text/latex": [
       "$\\displaystyle \\left(2422.26708600728 + 163.611854932252 i\\right) \\text{V}$"
      ],
      "text/plain": [
       "(2422.26708600728 + 163.611854932252⋅ⅈ)⋅volt"
      ]
     },
     "execution_count": 40,
     "metadata": {},
     "output_type": "execute_result"
    }
   ],
   "source": [
    "#2.11\n",
    "ratio = 2400/240\n",
    "f = 60 * hertz\n",
    "absS = 30 * kilo * volt*ampere\n",
    "omega = 2*pi*f\n",
    "R1 = 0.68 * ohm\n",
    "R2 = 0.0068 * ohm\n",
    "X1 = 7.8 * ohm\n",
    "X2 = 0.078 * ohm\n",
    "\n",
    "Z1 = R1 + j*X1\n",
    "Z2 = R2 + j*X2\n",
    "\n",
    "Uload = 230 * volt\n",
    "\n",
    "pf = 0.85\n",
    "phi = acos(pf)\n",
    "\n",
    "Slag = absS * (cos(-phi) + j*sin(-phi))\n",
    "\n",
    "Il = Slag/Uload\n",
    "\n",
    "Uleak = Il * Z2\n",
    "Ul = Uload + Uleak\n",
    "\n",
    "Uh = Ul * ratio\n",
    "Ih = Il / ratio\n",
    "\n",
    "Uleakh = Ih * Z1\n",
    "\n",
    "U1 = Uh + Uleakh\n",
    "\n",
    "convert_to(U1.simplify(),volt).simplify().evalf()"
   ]
  },
  {
   "cell_type": "code",
   "execution_count": 41,
   "metadata": {},
   "outputs": [
    {
     "data": {
      "text/latex": [
       "$\\displaystyle \\left(2207.88943573185 + 182.301188546009 i\\right) \\text{V}$"
      ],
      "text/plain": [
       "(2207.88943573185 + 182.301188546009⋅ⅈ)⋅volt"
      ]
     },
     "execution_count": 41,
     "metadata": {},
     "output_type": "execute_result"
    }
   ],
   "source": [
    "Slead = absS * (cos(phi) + j*sin(phi))\n",
    "\n",
    "Il2 = Slead/Uload\n",
    "\n",
    "Uleak2 = Il2 * Z2\n",
    "Ul2 = Uload + Uleak2\n",
    "\n",
    "Uh2 = Ul2 * ratio\n",
    "Ih2 = Il2 / ratio\n",
    "\n",
    "Uleakh2 = Ih2 * Z1\n",
    "\n",
    "U12 = Uh2 + Uleakh2\n",
    "\n",
    "convert_to(U12.simplify(),volt).simplify().evalf()"
   ]
  }
 ],
 "metadata": {
  "kernelspec": {
   "display_name": "digi3",
   "language": "python",
   "name": "python3"
  },
  "language_info": {
   "codemirror_mode": {
    "name": "ipython",
    "version": 3
   },
   "file_extension": ".py",
   "mimetype": "text/x-python",
   "name": "python",
   "nbconvert_exporter": "python",
   "pygments_lexer": "ipython3",
   "version": "3.10.13"
  },
  "orig_nbformat": 4
 },
 "nbformat": 4,
 "nbformat_minor": 2
}
